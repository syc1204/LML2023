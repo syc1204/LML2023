{
 "cells": [
  {
   "cell_type": "code",
   "execution_count": 6,
   "id": "4cef2d14-4fb6-40fb-9306-477865412ec1",
   "metadata": {},
   "outputs": [
    {
     "name": "stdout",
     "output_type": "stream",
     "text": [
      "500500\n"
     ]
    }
   ],
   "source": [
    "# write a python program\n",
    "# 1-1 \n",
    "## Calculates 1+2+...+1000\n",
    "result=sum(range(1,1001))\n",
    "print(result)"
   ]
  },
  {
   "cell_type": "code",
   "execution_count": 12,
   "id": "ccb4b98e-c2d0-46f8-a2cf-8ff114cb61d9",
   "metadata": {},
   "outputs": [
    {
     "name": "stdout",
     "output_type": "stream",
     "text": [
      "333833500\n"
     ]
    }
   ],
   "source": [
    "# 1-2 \n",
    "## Calculates 1^2+2^2+...+1000^2\n",
    "\n",
    "result=0\n",
    "for i in range(1,1001):\n",
    "    result += i**2\n",
    "\n",
    "print(result)"
   ]
  },
  {
   "cell_type": "code",
   "execution_count": 14,
   "id": "ad141039-399d-4d24-9fa0-c7459176fee5",
   "metadata": {},
   "outputs": [
    {
     "name": "stdout",
     "output_type": "stream",
     "text": [
      "4\n"
     ]
    }
   ],
   "source": [
    "# 1-3\n",
    "x=0\n",
    "with open(\"HW1_YoungchangSeo\") as file:\n",
    "    for line in file:\n",
    "        x += 1\n",
    "\n",
    "print(x)"
   ]
  },
  {
   "cell_type": "code",
   "execution_count": 23,
   "id": "9b6047a1-d3a4-40a3-81e2-c0638acdef44",
   "metadata": {},
   "outputs": [
    {
     "name": "stdout",
     "output_type": "stream",
     "text": [
      "TTCTGACTTGCAACGAAAAGAGTCGTTCACACCCAGCAGTCCTCTGGAAATCGGTCCTTATACGTAAAGATGTAACCAGTACGTATAGTATGGTCACTATGGACCGGACTTGGACGGACAATGGTGCCTGGCCAGATGCCAGGCACCGCTTCGAGATGGAAATTTGGTGACCGATTTCCCTCCATAGAAATATCGAGCCT\n"
     ]
    }
   ],
   "source": [
    "# Write a program to process a file of DNA text, such as:\n",
    "# 2-1\n",
    "import random\n",
    "DNA=(\"A\",\"T\",\"G\",\"C\")\n",
    "Sequence=random.choices(DNA,k=200)\n",
    "Sequence=''.join(Sequence)\n",
    "print(Sequence)"
   ]
  },
  {
   "cell_type": "code",
   "execution_count": 28,
   "id": "f22331d3-8951-4fc4-b01f-6bf47b6292d2",
   "metadata": {},
   "outputs": [
    {
     "name": "stdout",
     "output_type": "stream",
     "text": [
      "49\n",
      "49\n",
      "54\n",
      "48\n"
     ]
    },
    {
     "data": {
      "text/plain": [
       "0.49"
      ]
     },
     "execution_count": 28,
     "metadata": {},
     "output_type": "execute_result"
    }
   ],
   "source": [
    "# 2-2\n",
    "print(Sequence.count(\"C\"))\n",
    "print(Sequence.count(\"G\"))\n",
    "print(Sequence.count(\"A\"))\n",
    "print(Sequence.count(\"T\"))\n",
    "\n",
    "(Sequence.count(\"C\") + Sequence.count(\"G\"))/200"
   ]
  }
 ],
 "metadata": {
  "kernelspec": {
   "display_name": "Python 3 (ipykernel)",
   "language": "python",
   "name": "python3"
  },
  "language_info": {
   "codemirror_mode": {
    "name": "ipython",
    "version": 3
   },
   "file_extension": ".py",
   "mimetype": "text/x-python",
   "name": "python",
   "nbconvert_exporter": "python",
   "pygments_lexer": "ipython3",
   "version": "3.8.16"
  }
 },
 "nbformat": 4,
 "nbformat_minor": 5
}
